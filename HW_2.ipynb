{
 "cells": [
  {
   "cell_type": "markdown",
   "metadata": {},
   "source": [
    "# GeekBrains University\n",
    "## Methods of data collection\n",
    "\n",
    "## Lesson 2"
   ]
  },
  {
   "cell_type": "markdown",
   "metadata": {},
   "source": [
    "### Task 1 \n",
    "Необходимо собрать информацию о вакансиях на вводимую должность (используем input или через аргументы) с сайтов Superjob и HH.  \n",
    "Приложение должно анализировать несколько страниц сайта (также вводим через input или аргументы).  \n",
    "Получившийся список должен содержать в себе минимум:  \n",
    "● Наименование вакансии.  \n",
    "● Предлагаемую зарплату (отдельно минимальную и максимальную).  \n",
    "● Ссылку на саму вакансию.  \n",
    "● Сайт, откуда собрана вакансия.  \n",
    "По желанию можно добавить ещё параметры вакансии (например, работодателя и расположение).  \n",
    "Структура должна быть одинаковая для вакансий с обоих сайтов. Общий результат можно вывести с помощью dataFrame через pandas."
   ]
  },
  {
   "cell_type": "code",
   "execution_count": 557,
   "metadata": {},
   "outputs": [],
   "source": [
    "from bs4 import BeautifulSoup as bs\n",
    "import requests\n",
    "import json\n",
    "from pprint import pprint\n",
    "import pandas as pd\n",
    "import numpy as np\n",
    "import re"
   ]
  },
  {
   "cell_type": "code",
   "execution_count": 558,
   "metadata": {},
   "outputs": [],
   "source": [
    "headers = {'User-Agent':\n",
    "    'Mozilla/5.0 (Windows NT 10.0; Win64; x64)'}"
   ]
  },
  {
   "cell_type": "markdown",
   "metadata": {},
   "source": [
    "#### * Initially we are going to parse data 'as is'. We'll parse 'compensation' for min, max, and currency later."
   ]
  },
  {
   "cell_type": "markdown",
   "metadata": {},
   "source": [
    "### HeadHunter"
   ]
  },
  {
   "cell_type": "code",
   "execution_count": 559,
   "metadata": {},
   "outputs": [],
   "source": [
    "occupation = 'санитар'"
   ]
  },
  {
   "cell_type": "code",
   "execution_count": 560,
   "metadata": {},
   "outputs": [],
   "source": [
    "main_link = 'https://hh.ru'"
   ]
  },
  {
   "cell_type": "code",
   "execution_count": 561,
   "metadata": {},
   "outputs": [],
   "source": [
    "response = requests.get(f'{main_link}/search/vacancy?area=1&st=searchVacancy&text={occupation}', headers=headers).text\n",
    "soup = bs(response,'lxml')"
   ]
  },
  {
   "cell_type": "markdown",
   "metadata": {},
   "source": [
    "#### Look for the number of pages in the footer:"
   ]
  },
  {
   "cell_type": "code",
   "execution_count": 562,
   "metadata": {},
   "outputs": [
    {
     "name": "stdout",
     "output_type": "stream",
     "text": [
      "[<a class=\"bloko-button HH-Pager-Control\" data-page=\"1\" data-qa=\"pager-page\" href=\"/search/vacancy?L_is_autosearch=false&amp;area=1&amp;clusters=true&amp;enable_snippets=true&amp;text=%D1%81%D0%B0%D0%BD%D0%B8%D1%82%D0%B0%D1%80&amp;page=1\" rel=\"nofollow\">2</a>,\n",
      " <a class=\"bloko-button HH-Pager-Control\" data-page=\"2\" data-qa=\"pager-page\" href=\"/search/vacancy?L_is_autosearch=false&amp;area=1&amp;clusters=true&amp;enable_snippets=true&amp;text=%D1%81%D0%B0%D0%BD%D0%B8%D1%82%D0%B0%D1%80&amp;page=2\" rel=\"nofollow\">3</a>,\n",
      " <a class=\"bloko-button HH-Pager-Control\" data-page=\"3\" data-qa=\"pager-page\" href=\"/search/vacancy?L_is_autosearch=false&amp;area=1&amp;clusters=true&amp;enable_snippets=true&amp;text=%D1%81%D0%B0%D0%BD%D0%B8%D1%82%D0%B0%D1%80&amp;page=3\" rel=\"nofollow\">4</a>,\n",
      " <a class=\"bloko-button HH-Pager-Control\" data-page=\"4\" data-qa=\"pager-page\" href=\"/search/vacancy?L_is_autosearch=false&amp;area=1&amp;clusters=true&amp;enable_snippets=true&amp;text=%D1%81%D0%B0%D0%BD%D0%B8%D1%82%D0%B0%D1%80&amp;page=4\" rel=\"nofollow\">5</a>,\n",
      " <a class=\"bloko-button HH-Pager-Control\" data-page=\"8\" data-qa=\"pager-page\" href=\"/search/vacancy?L_is_autosearch=false&amp;area=1&amp;clusters=true&amp;enable_snippets=true&amp;text=%D1%81%D0%B0%D0%BD%D0%B8%D1%82%D0%B0%D1%80&amp;page=8\" rel=\"nofollow\">9</a>]\n"
     ]
    }
   ],
   "source": [
    "pages = soup.find_all('a', {'class' : \"bloko-button HH-Pager-Control\"})\n",
    "pprint(pages)"
   ]
  },
  {
   "cell_type": "code",
   "execution_count": 563,
   "metadata": {},
   "outputs": [
    {
     "name": "stdout",
     "output_type": "stream",
     "text": [
      "Number of pages is 9\n"
     ]
    }
   ],
   "source": [
    "pages = int(pages[-1].text)\n",
    "print(f'Number of pages is {pages}')"
   ]
  },
  {
   "cell_type": "code",
   "execution_count": 564,
   "metadata": {},
   "outputs": [],
   "source": [
    "vacancy = []\n",
    "for page in range(pages):\n",
    "    link = f'{main_link}/search/vacancy?area=1&st=searchVacancy&text={occupation}&page={page}'\n",
    "    response = requests.get(link, headers=headers).text\n",
    "    soup = bs(response,'lxml')\n",
    "    vacancy += (soup.find_all('div', {'data-qa':'vacancy-serp__vacancy'}))"
   ]
  },
  {
   "cell_type": "code",
   "execution_count": 565,
   "metadata": {},
   "outputs": [
    {
     "name": "stdout",
     "output_type": "stream",
     "text": [
      "437\n"
     ]
    }
   ],
   "source": [
    "print(len(vacancy))"
   ]
  },
  {
   "cell_type": "code",
   "execution_count": 566,
   "metadata": {},
   "outputs": [
    {
     "name": "stdout",
     "output_type": "stream",
     "text": [
      "[<div class=\"vacancy-serp-item\" data-qa=\"vacancy-serp__vacancy\"><script data-name=\"HH/VacancyResponseTrigger\" data-params=\"\"></script><div class=\"vacancy-serp-item__row vacancy-serp-item__row_header\"><div class=\"vacancy-serp-item__info\"><span class=\"bloko-section-header-3 bloko-section-header-3_lite\"><span class=\"resume-search-item__name\"><span class=\"g-user-content\"><a class=\"bloko-link HH-LinkModifier\" data-position=\"2\" data-qa=\"vacancy-serp__vacancy-title\" data-requestid=\"15865518062195a1af6fa7745219c173\" data-totalvacancies=\"428\" href=\"https://hh.ru/vacancy/36601291?query=%D1%81%D0%B0%D0%BD%D0%B8%D1%82%D0%B0%D1%80\" target=\"_blank\">Санитарка/Санитар</a></span></span></span></div><div class=\"vacancy-serp-item__sidebar\"><span class=\"bloko-section-header-3 bloko-section-header-3_lite\" data-qa=\"vacancy-serp__vacancy-compensation\">от 100 000 руб.</span></div></div><div class=\"vacancy-serp-item__meta-info\"><a class=\"bloko-link bloko-link_secondary\" data-qa=\"vacancy-serp__vacancy-employer\" href=\"/employer/3117872\">ООО Гарант-Мед</a> <a class=\"bloko-link\" href=\"https://feedback.hh.ru/article/details/id/5951\" target=\"_blank\"><span class=\"bloko-icon bloko-icon_done bloko-icon_initial-action\"><script data-name=\"HH/Tooltip/Hover\" data-params='\n",
      "                    {\n",
      "                        \"placement\": \"right\",\n",
      "                        \"html\": \"Компания прошла проверку на сайте\",\n",
      "                        \"layer\": \"overlay\"\n",
      "                    }\n",
      "                '></script></span></a></div><div class=\"vacancy-serp-item__meta-info\"><span class=\"vacancy-serp-item__meta-info\" data-qa=\"vacancy-serp__vacancy-address\">Москва</span></div><div class=\"vacancy-serp-item__row\"><div class=\"vacancy-serp-item__info\"><div class=\"g-user-content\"><div data-qa=\"vacancy-serp__vacancy_snippet_responsibility\">Уборка. Дезинфекция. Дозы и нормы применения чистящих средств.</div><div data-qa=\"vacancy-serp__vacancy_snippet_requirement\">Знания правил и принципы гигиены и <span class=\"highlighted highlighted_short\">санитарии</span>. Медицинская книжка. Крепкое здоровье.</div></div></div><div class=\"vacancy-serp-item__sidebar\"></div></div><div class=\"vacancy-serp-item__row vacancy-serp-item__row_controls\"><div class=\"vacancy-serp-item__controls-item vacancy-serp-item__controls-item_response HH-VacancyResponseTrigger-Button\"><script data-name=\"HH/VacancyResponsePopup/VacancyResponsePopup\" data-params='\n",
      "                {\n",
      "                    \"isAutoOpen\": false,\n",
      "                    \"stayOnPage\": true,\n",
      "                    \"vacancyId\": \"36601291\",\n",
      "                    \"employerId\": \"3117872\",\n",
      "                    \"isWithoutTest\": true,\n",
      "                    \"ignoreResponseCheck\": true,\n",
      "                    \n",
      "        \"trl\": {\n",
      "            \"responseTitle\": \"Резюме доставлено\",\n",
      "            \"responseStats\": \"Этот работодатель просматривает {0}% поступивших резюме\",\n",
      "            \"responseNoStats\": \"Узнать о статусе резюме можно на странице откликов\",\n",
      "            \"viewResponse\": \"Посмотреть\",\n",
      "            \"viewResponses\": \"Смотреть отклики\",\n",
      "            \"errors\": {\n",
      "                \"unknown\":\"Произошла ошибка, попробуйте ещё раз\",\n",
      "                \"letter-required\":\"Пожалуйста, введите сопроводительное письмо\",\n",
      "                \"test-required\":\"Для отклика требуется ответить на вопросы теста\",\n",
      "                \"test-service-down\":\"Извините, сайт перегружен, пожалуйста, попробуйте позже\",\n",
      "                \"negotiations-limit-exceeded\":\"В течение 24 часов можно совершить не более 200 откликов. Вы исчерпали лимит откликов, попробуйте отправить отклик позднее.\",\n",
      "                \"too-long-letter\": \"Длина сопроводительного письма не может превышать  символов\"\n",
      "\n",
      "            }\n",
      "        }\n",
      "    \n",
      "                }\n",
      "            '></script><a class=\"bloko-link bloko-link_dimmed HH-VacancyResponsePopup-Link HH-VacancyResponseAnalytics-Trigger\" data-qa=\"vacancy-serp__vacancy_response\" href=\"/applicant/vacancy_response?vacancyId=36601291&amp;hhtmFrom=vacancy_search_result\">Откликнуться</a></div><div class=\"vacancy-serp-item__controls-item vacancy-serp-item__controls-item_response HH-VacancyResponseTrigger-Container HH-VacancyResponseAnalytics-Trigger g-hidden\"><a class=\"search-resume-item-label\" data-qa=\"vacancy-serp__vacancy_responded\" href=\"/negotiations/gotopic?vacancy_id=\" target=\"_blank\">Вы откликнулись</a></div><span class=\"vacancy-serp-item__controls-item vacancy-serp-item__controls-item_pubdate\" data-qa=\"vacancy-serp__vacancy-date\"><span class=\"vacancy-serp-item__publication-date\">8 апреля</span></span></div></div>,\n",
      " <div class=\"vacancy-serp-item\" data-qa=\"vacancy-serp__vacancy\"><script data-name=\"HH/VacancyResponseTrigger\" data-params=\"\"></script><div class=\"vacancy-serp-item__row vacancy-serp-item__row_header\"><div class=\"vacancy-serp-item__info\"><span class=\"bloko-section-header-3 bloko-section-header-3_lite\"><span class=\"resume-search-item__name\"><span class=\"g-user-content\"><a class=\"bloko-link HH-LinkModifier\" data-position=\"3\" data-qa=\"vacancy-serp__vacancy-title\" data-requestid=\"15865518062195a1af6fa7745219c173\" data-totalvacancies=\"428\" href=\"https://hh.ru/vacancy/35433244?query=%D1%81%D0%B0%D0%BD%D0%B8%D1%82%D0%B0%D1%80\" target=\"_blank\">Санитар (ветклиника)</a></span></span></span></div><div class=\"vacancy-serp-item__sidebar\"></div></div><div class=\"vacancy-serp-item__meta-info\"><a class=\"bloko-link bloko-link_secondary\" data-qa=\"vacancy-serp__vacancy-employer\" href=\"/employer/784\">АО Август, Фирма</a> <a class=\"bloko-link\" href=\"https://feedback.hh.ru/article/details/id/5951\" target=\"_blank\"><span class=\"bloko-icon bloko-icon_done bloko-icon_initial-action\"><script data-name=\"HH/Tooltip/Hover\" data-params='\n",
      "                    {\n",
      "                        \"placement\": \"right\",\n",
      "                        \"html\": \"Компания прошла проверку на сайте\",\n",
      "                        \"layer\": \"overlay\"\n",
      "                    }\n",
      "                '></script></span></a></div><div class=\"vacancy-serp-item__meta-info\"><span class=\"vacancy-serp-item__meta-info\" data-qa=\"vacancy-serp__vacancy-address\">Москва</span></div><div class=\"vacancy-serp-item__row\"><div class=\"vacancy-serp-item__info\"><div class=\"g-user-content\"><div data-qa=\"vacancy-serp__vacancy_snippet_responsibility\">Содержание в чистоте и порядке помещений ветеринарной клиники (влажная уборка помещений с дезинфицирующими средствами). —Проведение текущих уборок помещений в соответствии...</div><div data-qa=\"vacancy-serp__vacancy_snippet_requirement\">Высшее/среднее специальное образование/неоконченное высшее/среднее. Вежливость, дисциплинированность, опрятность.</div></div></div><div class=\"vacancy-serp-item__sidebar\"></div></div><div class=\"vacancy-serp-item__row vacancy-serp-item__row_controls\"><div class=\"vacancy-serp-item__controls-item vacancy-serp-item__controls-item_response HH-VacancyResponseTrigger-Button\"><script data-name=\"HH/VacancyResponsePopup/VacancyResponsePopup\" data-params='\n",
      "                {\n",
      "                    \"isAutoOpen\": false,\n",
      "                    \"stayOnPage\": true,\n",
      "                    \"vacancyId\": \"35433244\",\n",
      "                    \"employerId\": \"784\",\n",
      "                    \"isWithoutTest\": true,\n",
      "                    \"ignoreResponseCheck\": true,\n",
      "                    \n",
      "        \"trl\": {\n",
      "            \"responseTitle\": \"Резюме доставлено\",\n",
      "            \"responseStats\": \"Этот работодатель просматривает {0}% поступивших резюме\",\n",
      "            \"responseNoStats\": \"Узнать о статусе резюме можно на странице откликов\",\n",
      "            \"viewResponse\": \"Посмотреть\",\n",
      "            \"viewResponses\": \"Смотреть отклики\",\n",
      "            \"errors\": {\n",
      "                \"unknown\":\"Произошла ошибка, попробуйте ещё раз\",\n",
      "                \"letter-required\":\"Пожалуйста, введите сопроводительное письмо\",\n",
      "                \"test-required\":\"Для отклика требуется ответить на вопросы теста\",\n",
      "                \"test-service-down\":\"Извините, сайт перегружен, пожалуйста, попробуйте позже\",\n",
      "                \"negotiations-limit-exceeded\":\"В течение 24 часов можно совершить не более 200 откликов. Вы исчерпали лимит откликов, попробуйте отправить отклик позднее.\",\n",
      "                \"too-long-letter\": \"Длина сопроводительного письма не может превышать  символов\"\n",
      "\n",
      "            }\n",
      "        }\n",
      "    \n",
      "                }\n",
      "            '></script><a class=\"bloko-link bloko-link_dimmed HH-VacancyResponsePopup-Link HH-VacancyResponseAnalytics-Trigger\" data-qa=\"vacancy-serp__vacancy_response\" href=\"/applicant/vacancy_response?vacancyId=35433244&amp;hhtmFrom=vacancy_search_result\">Откликнуться</a></div><div class=\"vacancy-serp-item__controls-item vacancy-serp-item__controls-item_response HH-VacancyResponseTrigger-Container HH-VacancyResponseAnalytics-Trigger g-hidden\"><a class=\"search-resume-item-label\" data-qa=\"vacancy-serp__vacancy_responded\" href=\"/negotiations/gotopic?vacancy_id=\" target=\"_blank\">Вы откликнулись</a></div><span class=\"vacancy-serp-item__controls-item vacancy-serp-item__controls-item_pubdate\" data-qa=\"vacancy-serp__vacancy-date\"><span class=\"vacancy-serp-item__publication-date\">10 апреля</span></span></div></div>]\n"
     ]
    }
   ],
   "source": [
    "pprint(vacancy[2:4])"
   ]
  },
  {
   "cell_type": "code",
   "execution_count": 567,
   "metadata": {},
   "outputs": [
    {
     "name": "stdout",
     "output_type": "stream",
     "text": [
      "{'title': 'Санитар/санитарка', 'link': 'https://hh.ru/vacancy/36577813?query=%D1%81%D0%B0%D0%BD%D0%B8%D1%82%D0%B0%D1%80', 'employer': ' Амориа', 'compensation': 'от 40\\xa0000 руб.', 'source': 'https://hh.ru'}\n",
      "\n",
      " ------------------------------------------------------------- \n",
      "\n",
      "{'title': 'Санитарка/Санитар в аптеку (м. Раменки)', 'link': 'https://hh.ru/vacancy/36381593?query=%D1%81%D0%B0%D0%BD%D0%B8%D1%82%D0%B0%D1%80', 'employer': 'АО Столичные аптеки', 'compensation': 'от 28\\xa0000 руб.', 'source': 'https://hh.ru'}\n",
      "\n",
      " ------------------------------------------------------------- \n",
      "\n",
      "{'title': 'Санитарка/Санитар', 'link': 'https://hh.ru/vacancy/36601291?query=%D1%81%D0%B0%D0%BD%D0%B8%D1%82%D0%B0%D1%80', 'employer': 'ООО Гарант-Мед', 'compensation': 'от 100\\xa0000 руб.', 'source': 'https://hh.ru'}\n",
      "\n",
      " ------------------------------------------------------------- \n",
      "\n",
      "{'title': 'Санитар (ветклиника)', 'link': 'https://hh.ru/vacancy/35433244?query=%D1%81%D0%B0%D0%BD%D0%B8%D1%82%D0%B0%D1%80', 'employer': 'АО Август, Фирма', 'compensation': nan, 'source': 'https://hh.ru'}\n",
      "\n",
      " ------------------------------------------------------------- \n",
      "\n",
      "{'title': 'Санитарка/санитар', 'link': 'https://hh.ru/vacancy/36472038?query=%D1%81%D0%B0%D0%BD%D0%B8%D1%82%D0%B0%D1%80', 'employer': 'ООО Нейро-Клиника', 'compensation': '34\\xa0000-34\\xa0000 руб.', 'source': 'https://hh.ru'}\n",
      "\n",
      " ------------------------------------------------------------- \n",
      "\n",
      "{'title': 'Санитарка/санитар в медицинскую клинику', 'link': 'https://hh.ru/vacancy/36373397?query=%D1%81%D0%B0%D0%BD%D0%B8%D1%82%D0%B0%D1%80', 'employer': ' Лазерный Дом', 'compensation': 'от 30\\xa0000 руб.', 'source': 'https://hh.ru'}\n",
      "\n",
      " ------------------------------------------------------------- \n",
      "\n"
     ]
    }
   ],
   "source": [
    "base = []\n",
    "i = 0\n",
    "for v in vacancy:\n",
    "    v_data = {}\n",
    "    \n",
    "    title = v.find('a', {'data-qa':'vacancy-serp__vacancy-title'})\n",
    "    if not title:\n",
    "        v_data['title'] = np.nan\n",
    "    else:\n",
    "        v_data['title'] = title.text\n",
    "    \n",
    "    link = v.find('a', {'data-qa':'vacancy-serp__vacancy-title'})\n",
    "    if not link:\n",
    "        v_data['link'] = np.nan\n",
    "    else:\n",
    "        v_data['link'] = link['href']\n",
    "        \n",
    "    employer = v.find('a', {'data-qa':'vacancy-serp__vacancy-employer'})\n",
    "    if not employer:\n",
    "        v_data['employer'] = np.nan\n",
    "    else:\n",
    "        v_data['employer'] = employer.text\n",
    "    \n",
    "    compensation = v.find('span', {'data-qa':'vacancy-serp__vacancy-compensation'})\n",
    "    if not compensation:\n",
    "        v_data['compensation'] = np.nan\n",
    "    else:\n",
    "        v_data['compensation'] = compensation.text\n",
    "    \n",
    "    v_data['source'] = main_link\n",
    "    \n",
    "    base.append(v_data)\n",
    "    if i < 6:\n",
    "        i += 1\n",
    "        print(v_data)\n",
    "        print('\\n ------------------------------------------------------------- \\n')"
   ]
  },
  {
   "cell_type": "code",
   "execution_count": 568,
   "metadata": {},
   "outputs": [
    {
     "data": {
      "text/plain": [
       "437"
      ]
     },
     "execution_count": 568,
     "metadata": {},
     "output_type": "execute_result"
    }
   ],
   "source": [
    "len(base)"
   ]
  },
  {
   "cell_type": "code",
   "execution_count": 569,
   "metadata": {},
   "outputs": [],
   "source": [
    "with open(f'HeadHunter.txt', 'w') as outfile:\n",
    "    json.dump(base, outfile)"
   ]
  },
  {
   "cell_type": "code",
   "execution_count": 570,
   "metadata": {},
   "outputs": [
    {
     "data": {
      "text/html": [
       "<div>\n",
       "<style scoped>\n",
       "    .dataframe tbody tr th:only-of-type {\n",
       "        vertical-align: middle;\n",
       "    }\n",
       "\n",
       "    .dataframe tbody tr th {\n",
       "        vertical-align: top;\n",
       "    }\n",
       "\n",
       "    .dataframe thead th {\n",
       "        text-align: right;\n",
       "    }\n",
       "</style>\n",
       "<table border=\"1\" class=\"dataframe\">\n",
       "  <thead>\n",
       "    <tr style=\"text-align: right;\">\n",
       "      <th></th>\n",
       "      <th>compensation</th>\n",
       "      <th>employer</th>\n",
       "      <th>link</th>\n",
       "      <th>source</th>\n",
       "      <th>title</th>\n",
       "    </tr>\n",
       "  </thead>\n",
       "  <tbody>\n",
       "    <tr>\n",
       "      <th>0</th>\n",
       "      <td>от 40 000 руб.</td>\n",
       "      <td>Амориа</td>\n",
       "      <td>https://hh.ru/vacancy/36577813?query=%D1%81%D0...</td>\n",
       "      <td>https://hh.ru</td>\n",
       "      <td>Санитар/санитарка</td>\n",
       "    </tr>\n",
       "    <tr>\n",
       "      <th>1</th>\n",
       "      <td>от 28 000 руб.</td>\n",
       "      <td>АО Столичные аптеки</td>\n",
       "      <td>https://hh.ru/vacancy/36381593?query=%D1%81%D0...</td>\n",
       "      <td>https://hh.ru</td>\n",
       "      <td>Санитарка/Санитар в аптеку (м. Раменки)</td>\n",
       "    </tr>\n",
       "    <tr>\n",
       "      <th>2</th>\n",
       "      <td>от 100 000 руб.</td>\n",
       "      <td>ООО Гарант-Мед</td>\n",
       "      <td>https://hh.ru/vacancy/36601291?query=%D1%81%D0...</td>\n",
       "      <td>https://hh.ru</td>\n",
       "      <td>Санитарка/Санитар</td>\n",
       "    </tr>\n",
       "    <tr>\n",
       "      <th>3</th>\n",
       "      <td>NaN</td>\n",
       "      <td>АО Август, Фирма</td>\n",
       "      <td>https://hh.ru/vacancy/35433244?query=%D1%81%D0...</td>\n",
       "      <td>https://hh.ru</td>\n",
       "      <td>Санитар (ветклиника)</td>\n",
       "    </tr>\n",
       "    <tr>\n",
       "      <th>4</th>\n",
       "      <td>34 000-34 000 руб.</td>\n",
       "      <td>ООО Нейро-Клиника</td>\n",
       "      <td>https://hh.ru/vacancy/36472038?query=%D1%81%D0...</td>\n",
       "      <td>https://hh.ru</td>\n",
       "      <td>Санитарка/санитар</td>\n",
       "    </tr>\n",
       "  </tbody>\n",
       "</table>\n",
       "</div>"
      ],
      "text/plain": [
       "         compensation             employer  \\\n",
       "0      от 40 000 руб.               Амориа   \n",
       "1      от 28 000 руб.  АО Столичные аптеки   \n",
       "2     от 100 000 руб.       ООО Гарант-Мед   \n",
       "3                 NaN     АО Август, Фирма   \n",
       "4  34 000-34 000 руб.    ООО Нейро-Клиника   \n",
       "\n",
       "                                                link         source  \\\n",
       "0  https://hh.ru/vacancy/36577813?query=%D1%81%D0...  https://hh.ru   \n",
       "1  https://hh.ru/vacancy/36381593?query=%D1%81%D0...  https://hh.ru   \n",
       "2  https://hh.ru/vacancy/36601291?query=%D1%81%D0...  https://hh.ru   \n",
       "3  https://hh.ru/vacancy/35433244?query=%D1%81%D0...  https://hh.ru   \n",
       "4  https://hh.ru/vacancy/36472038?query=%D1%81%D0...  https://hh.ru   \n",
       "\n",
       "                                     title  \n",
       "0                        Санитар/санитарка  \n",
       "1  Санитарка/Санитар в аптеку (м. Раменки)  \n",
       "2                        Санитарка/Санитар  \n",
       "3                     Санитар (ветклиника)  \n",
       "4                        Санитарка/санитар  "
      ]
     },
     "execution_count": 570,
     "metadata": {},
     "output_type": "execute_result"
    }
   ],
   "source": [
    "df_hh = pd.DataFrame(base)\n",
    "df_hh.head()"
   ]
  },
  {
   "cell_type": "code",
   "execution_count": 571,
   "metadata": {},
   "outputs": [],
   "source": [
    "df_hh.to_csv(f'HeadHunter.csv')"
   ]
  },
  {
   "cell_type": "markdown",
   "metadata": {},
   "source": [
    "### Superjob"
   ]
  },
  {
   "cell_type": "code",
   "execution_count": 572,
   "metadata": {},
   "outputs": [],
   "source": [
    "occupation = occupation #'курьер'"
   ]
  },
  {
   "cell_type": "code",
   "execution_count": 573,
   "metadata": {},
   "outputs": [],
   "source": [
    "main_link = 'https://www.superjob.ru'"
   ]
  },
  {
   "cell_type": "code",
   "execution_count": 574,
   "metadata": {},
   "outputs": [],
   "source": [
    "response = requests.get(f'{main_link}/vacancy/search/?keywords={occupation}', headers=headers).text\n",
    "soup = bs(response,'lxml')"
   ]
  },
  {
   "cell_type": "markdown",
   "metadata": {},
   "source": [
    "#### Look for the number of pages in the footer:"
   ]
  },
  {
   "cell_type": "code",
   "execution_count": 575,
   "metadata": {},
   "outputs": [
    {
     "name": "stdout",
     "output_type": "stream",
     "text": [
      "[<span class=\"_3IDf-\">1</span>,\n",
      " <span class=\"_3IDf-\">2</span>,\n",
      " <span class=\"_3IDf-\">3</span>,\n",
      " <span class=\"_3IDf-\">4</span>,\n",
      " <span class=\"_3IDf-\">Дальше</span>]\n"
     ]
    }
   ],
   "source": [
    "pages = soup.find('div', {'class' : \"L1p51\"}).find_all('span', {'class' : \"_3IDf-\"})\n",
    "pprint(pages)"
   ]
  },
  {
   "cell_type": "code",
   "execution_count": 576,
   "metadata": {},
   "outputs": [
    {
     "name": "stdout",
     "output_type": "stream",
     "text": [
      "Number of pages is 4\n"
     ]
    }
   ],
   "source": [
    "pages = int(pages[-2].text)\n",
    "print(f'Number of pages is {pages}')"
   ]
  },
  {
   "cell_type": "code",
   "execution_count": 577,
   "metadata": {},
   "outputs": [],
   "source": [
    "vacancy = []\n",
    "for page in range(pages):\n",
    "    link = f'{main_link}/vacancy/search/?keywords={occupation}&page={page}'\n",
    "    response = requests.get(link, headers=headers).text\n",
    "    soup = bs(response,'lxml')\n",
    "    vacancy += (soup.find_all('div', {'class':'_3zucV f-test-vacancy-item _3j3cA RwN9e _3tNK- _1NStQ _1I1pc'}))"
   ]
  },
  {
   "cell_type": "code",
   "execution_count": 578,
   "metadata": {},
   "outputs": [
    {
     "data": {
      "text/plain": [
       "80"
      ]
     },
     "execution_count": 578,
     "metadata": {},
     "output_type": "execute_result"
    }
   ],
   "source": [
    "len(vacancy)"
   ]
  },
  {
   "cell_type": "code",
   "execution_count": 579,
   "metadata": {},
   "outputs": [
    {
     "name": "stdout",
     "output_type": "stream",
     "text": [
      "{'title': 'Санитар / Санитарка (в лабораторию)', 'link': 'https://www.superjob.ru/vakansii/sanitar-32053850.html', 'employer': 'Независимая лаборатория ИНВИТРО', 'compensation': 'от\\xa032\\xa0000\\xa0руб.', 'source': 'https://www.superjob.ru'}\n",
      "\n",
      " ------------------------------------------------------------- \n",
      "\n",
      "{'title': 'Санитарка / Санитар', 'link': 'https://www.superjob.ru/vakansii/sanitarka-32650853.html', 'employer': 'ГОРОДСКАЯ СЛУЖБА СОЦИАЛЬНОЙ ПОМОЩИ', 'compensation': '27\\xa0000\\xa0—\\xa030\\xa0000\\xa0руб.', 'source': 'https://www.superjob.ru'}\n",
      "\n",
      " ------------------------------------------------------------- \n",
      "\n",
      "{'title': 'Санитарка / Санитар', 'link': 'https://www.superjob.ru/vakansii/sanitarka-33723759.html', 'employer': 'ЕВРОПЕЙСКИЙ МЕДИЦИНСКИЙ ЦЕНТР', 'compensation': '35\\xa0000\\xa0руб.', 'source': 'https://www.superjob.ru'}\n",
      "\n",
      " ------------------------------------------------------------- \n",
      "\n",
      "{'title': 'Санитар (в новую больницу поселения Вороновское)', 'link': 'https://www.superjob.ru/vakansii/sanitar-33708341.html', 'employer': 'Департамент здравоохранения города Москвы', 'compensation': 'до\\xa0130\\xa0000\\xa0руб.', 'source': 'https://www.superjob.ru'}\n",
      "\n",
      " ------------------------------------------------------------- \n",
      "\n",
      "{'title': 'Санитар по надзору и сопровождению пациентов в стационаре', 'link': 'https://www.superjob.ru/vakansii/sanitar-po-nadzoru-i-soprovozhdeniyu-pacientov-v-stacionare-31105989.html', 'employer': 'Медицинский центр \"КОРСАКОВ\"', 'compensation': '25\\xa0000\\xa0—\\xa030\\xa0000\\xa0руб.', 'source': 'https://www.superjob.ru'}\n",
      "\n",
      " ------------------------------------------------------------- \n",
      "\n",
      "{'title': 'Санитар в КДЛ', 'link': 'https://www.superjob.ru/vakansii/sanitar-v-kdl-33721113.html', 'employer': 'ГБУЗ Московский клинический научно-практический центр имени А. С. Логинова Департамента здравоохранения города Москвы', 'compensation': 'По договорённости', 'source': 'https://www.superjob.ru'}\n",
      "\n",
      " ------------------------------------------------------------- \n",
      "\n"
     ]
    }
   ],
   "source": [
    "base = []\n",
    "i = 0\n",
    "for v in vacancy:\n",
    "    v_data = {}\n",
    "    \n",
    "    title = v.find('div', {'class':'_3mfro CuJz5 PlM3e _2JVkc _3LJqf'})\n",
    "    if not title:\n",
    "        v_data['title'] = np.nan\n",
    "    else:\n",
    "        title = title.find('a')\n",
    "        if not title:\n",
    "            v_data['title'] = np.nan\n",
    "        else:\n",
    "            v_data['title'] = title.text\n",
    "    \n",
    "    link = v.find('div', {'class':'_3mfro CuJz5 PlM3e _2JVkc _3LJqf'})\n",
    "    if not link:\n",
    "        v_data['link'] = np.nan\n",
    "    else:\n",
    "        link = link.find('a')\n",
    "        if not link:\n",
    "            v_data['link'] = np.nan\n",
    "        else:\n",
    "            v_data['link'] = main_link + link['href']\n",
    "    \n",
    "    employer = v.find('span', {'class':'_3mfro _3Fsn4 f-test-text-vacancy-item-company-name _9fXTd _2JVkc _2VHxz _15msI'})\n",
    "    if not employer:\n",
    "        v_data['employer'] = np.nan\n",
    "    else:\n",
    "        employer = employer.find('a')\n",
    "        if not employer:\n",
    "            v_data['employer'] = np.nan\n",
    "        else:\n",
    "            v_data['employer'] = employer.text\n",
    "    \n",
    "    compensation = v.find('span', {'class':'_3mfro _2Wp8I _31tpt f-test-text-company-item-salary PlM3e _2JVkc _2VHxz'})\n",
    "    if not compensation:\n",
    "        v_data['compensation'] = np.nan\n",
    "    else:\n",
    "        v_data['compensation'] = compensation.text\n",
    "        \n",
    "    v_data['source'] = main_link\n",
    "        \n",
    "    base.append(v_data)\n",
    "    if i < 6:\n",
    "        i += 1\n",
    "        print(v_data)\n",
    "        print('\\n ------------------------------------------------------------- \\n')"
   ]
  },
  {
   "cell_type": "code",
   "execution_count": 580,
   "metadata": {},
   "outputs": [
    {
     "data": {
      "text/plain": [
       "80"
      ]
     },
     "execution_count": 580,
     "metadata": {},
     "output_type": "execute_result"
    }
   ],
   "source": [
    "len(base)"
   ]
  },
  {
   "cell_type": "code",
   "execution_count": 581,
   "metadata": {},
   "outputs": [],
   "source": [
    "with open(f'SuperJob.txt', 'w') as outfile:\n",
    "    json.dump(base, outfile)"
   ]
  },
  {
   "cell_type": "code",
   "execution_count": 582,
   "metadata": {},
   "outputs": [
    {
     "data": {
      "text/html": [
       "<div>\n",
       "<style scoped>\n",
       "    .dataframe tbody tr th:only-of-type {\n",
       "        vertical-align: middle;\n",
       "    }\n",
       "\n",
       "    .dataframe tbody tr th {\n",
       "        vertical-align: top;\n",
       "    }\n",
       "\n",
       "    .dataframe thead th {\n",
       "        text-align: right;\n",
       "    }\n",
       "</style>\n",
       "<table border=\"1\" class=\"dataframe\">\n",
       "  <thead>\n",
       "    <tr style=\"text-align: right;\">\n",
       "      <th></th>\n",
       "      <th>compensation</th>\n",
       "      <th>employer</th>\n",
       "      <th>link</th>\n",
       "      <th>source</th>\n",
       "      <th>title</th>\n",
       "    </tr>\n",
       "  </thead>\n",
       "  <tbody>\n",
       "    <tr>\n",
       "      <th>0</th>\n",
       "      <td>от 32 000 руб.</td>\n",
       "      <td>Независимая лаборатория ИНВИТРО</td>\n",
       "      <td>https://www.superjob.ru/vakansii/sanitar-32053...</td>\n",
       "      <td>https://www.superjob.ru</td>\n",
       "      <td>Санитар / Санитарка (в лабораторию)</td>\n",
       "    </tr>\n",
       "    <tr>\n",
       "      <th>1</th>\n",
       "      <td>27 000 — 30 000 руб.</td>\n",
       "      <td>ГОРОДСКАЯ СЛУЖБА СОЦИАЛЬНОЙ ПОМОЩИ</td>\n",
       "      <td>https://www.superjob.ru/vakansii/sanitarka-326...</td>\n",
       "      <td>https://www.superjob.ru</td>\n",
       "      <td>Санитарка / Санитар</td>\n",
       "    </tr>\n",
       "    <tr>\n",
       "      <th>2</th>\n",
       "      <td>35 000 руб.</td>\n",
       "      <td>ЕВРОПЕЙСКИЙ МЕДИЦИНСКИЙ ЦЕНТР</td>\n",
       "      <td>https://www.superjob.ru/vakansii/sanitarka-337...</td>\n",
       "      <td>https://www.superjob.ru</td>\n",
       "      <td>Санитарка / Санитар</td>\n",
       "    </tr>\n",
       "    <tr>\n",
       "      <th>3</th>\n",
       "      <td>до 130 000 руб.</td>\n",
       "      <td>Департамент здравоохранения города Москвы</td>\n",
       "      <td>https://www.superjob.ru/vakansii/sanitar-33708...</td>\n",
       "      <td>https://www.superjob.ru</td>\n",
       "      <td>Санитар (в новую больницу поселения Вороновское)</td>\n",
       "    </tr>\n",
       "    <tr>\n",
       "      <th>4</th>\n",
       "      <td>25 000 — 30 000 руб.</td>\n",
       "      <td>Медицинский центр \"КОРСАКОВ\"</td>\n",
       "      <td>https://www.superjob.ru/vakansii/sanitar-po-na...</td>\n",
       "      <td>https://www.superjob.ru</td>\n",
       "      <td>Санитар по надзору и сопровождению пациентов в...</td>\n",
       "    </tr>\n",
       "  </tbody>\n",
       "</table>\n",
       "</div>"
      ],
      "text/plain": [
       "           compensation                                   employer  \\\n",
       "0        от 32 000 руб.            Независимая лаборатория ИНВИТРО   \n",
       "1  27 000 — 30 000 руб.         ГОРОДСКАЯ СЛУЖБА СОЦИАЛЬНОЙ ПОМОЩИ   \n",
       "2           35 000 руб.              ЕВРОПЕЙСКИЙ МЕДИЦИНСКИЙ ЦЕНТР   \n",
       "3       до 130 000 руб.  Департамент здравоохранения города Москвы   \n",
       "4  25 000 — 30 000 руб.               Медицинский центр \"КОРСАКОВ\"   \n",
       "\n",
       "                                                link                   source  \\\n",
       "0  https://www.superjob.ru/vakansii/sanitar-32053...  https://www.superjob.ru   \n",
       "1  https://www.superjob.ru/vakansii/sanitarka-326...  https://www.superjob.ru   \n",
       "2  https://www.superjob.ru/vakansii/sanitarka-337...  https://www.superjob.ru   \n",
       "3  https://www.superjob.ru/vakansii/sanitar-33708...  https://www.superjob.ru   \n",
       "4  https://www.superjob.ru/vakansii/sanitar-po-na...  https://www.superjob.ru   \n",
       "\n",
       "                                               title  \n",
       "0                Санитар / Санитарка (в лабораторию)  \n",
       "1                                Санитарка / Санитар  \n",
       "2                                Санитарка / Санитар  \n",
       "3   Санитар (в новую больницу поселения Вороновское)  \n",
       "4  Санитар по надзору и сопровождению пациентов в...  "
      ]
     },
     "execution_count": 582,
     "metadata": {},
     "output_type": "execute_result"
    }
   ],
   "source": [
    "df_sj = pd.DataFrame(base)\n",
    "df_sj.head()"
   ]
  },
  {
   "cell_type": "code",
   "execution_count": 583,
   "metadata": {},
   "outputs": [],
   "source": [
    "df_sj.to_csv(f'Superjob.csv', encoding= 'utf-8')"
   ]
  },
  {
   "cell_type": "markdown",
   "metadata": {},
   "source": [
    "### Data concatination"
   ]
  },
  {
   "cell_type": "code",
   "execution_count": 584,
   "metadata": {},
   "outputs": [],
   "source": [
    "file = f'HeadHunter.csv'\n",
    "df_hh = pd.read_csv(file, header= 0, encoding= 'utf-8', index_col= 0)\n",
    "file = f'Superjob.csv'\n",
    "df_sj = pd.read_csv(file, header= 0, encoding= 'utf-8', index_col= 0)"
   ]
  },
  {
   "cell_type": "code",
   "execution_count": 585,
   "metadata": {},
   "outputs": [
    {
     "data": {
      "text/html": [
       "<div>\n",
       "<style scoped>\n",
       "    .dataframe tbody tr th:only-of-type {\n",
       "        vertical-align: middle;\n",
       "    }\n",
       "\n",
       "    .dataframe tbody tr th {\n",
       "        vertical-align: top;\n",
       "    }\n",
       "\n",
       "    .dataframe thead th {\n",
       "        text-align: right;\n",
       "    }\n",
       "</style>\n",
       "<table border=\"1\" class=\"dataframe\">\n",
       "  <thead>\n",
       "    <tr style=\"text-align: right;\">\n",
       "      <th></th>\n",
       "      <th>compensation</th>\n",
       "      <th>employer</th>\n",
       "      <th>link</th>\n",
       "      <th>source</th>\n",
       "      <th>title</th>\n",
       "    </tr>\n",
       "  </thead>\n",
       "  <tbody>\n",
       "    <tr>\n",
       "      <th>0</th>\n",
       "      <td>от 40 000 руб.</td>\n",
       "      <td>Амориа</td>\n",
       "      <td>https://hh.ru/vacancy/36577813?query=%D1%81%D0...</td>\n",
       "      <td>https://hh.ru</td>\n",
       "      <td>Санитар/санитарка</td>\n",
       "    </tr>\n",
       "    <tr>\n",
       "      <th>1</th>\n",
       "      <td>от 28 000 руб.</td>\n",
       "      <td>АО Столичные аптеки</td>\n",
       "      <td>https://hh.ru/vacancy/36381593?query=%D1%81%D0...</td>\n",
       "      <td>https://hh.ru</td>\n",
       "      <td>Санитарка/Санитар в аптеку (м. Раменки)</td>\n",
       "    </tr>\n",
       "    <tr>\n",
       "      <th>2</th>\n",
       "      <td>от 100 000 руб.</td>\n",
       "      <td>ООО Гарант-Мед</td>\n",
       "      <td>https://hh.ru/vacancy/36601291?query=%D1%81%D0...</td>\n",
       "      <td>https://hh.ru</td>\n",
       "      <td>Санитарка/Санитар</td>\n",
       "    </tr>\n",
       "    <tr>\n",
       "      <th>3</th>\n",
       "      <td>NaN</td>\n",
       "      <td>АО Август, Фирма</td>\n",
       "      <td>https://hh.ru/vacancy/35433244?query=%D1%81%D0...</td>\n",
       "      <td>https://hh.ru</td>\n",
       "      <td>Санитар (ветклиника)</td>\n",
       "    </tr>\n",
       "    <tr>\n",
       "      <th>4</th>\n",
       "      <td>34 000-34 000 руб.</td>\n",
       "      <td>ООО Нейро-Клиника</td>\n",
       "      <td>https://hh.ru/vacancy/36472038?query=%D1%81%D0...</td>\n",
       "      <td>https://hh.ru</td>\n",
       "      <td>Санитарка/санитар</td>\n",
       "    </tr>\n",
       "  </tbody>\n",
       "</table>\n",
       "</div>"
      ],
      "text/plain": [
       "         compensation             employer  \\\n",
       "0      от 40 000 руб.               Амориа   \n",
       "1      от 28 000 руб.  АО Столичные аптеки   \n",
       "2     от 100 000 руб.       ООО Гарант-Мед   \n",
       "3                 NaN     АО Август, Фирма   \n",
       "4  34 000-34 000 руб.    ООО Нейро-Клиника   \n",
       "\n",
       "                                                link         source  \\\n",
       "0  https://hh.ru/vacancy/36577813?query=%D1%81%D0...  https://hh.ru   \n",
       "1  https://hh.ru/vacancy/36381593?query=%D1%81%D0...  https://hh.ru   \n",
       "2  https://hh.ru/vacancy/36601291?query=%D1%81%D0...  https://hh.ru   \n",
       "3  https://hh.ru/vacancy/35433244?query=%D1%81%D0...  https://hh.ru   \n",
       "4  https://hh.ru/vacancy/36472038?query=%D1%81%D0...  https://hh.ru   \n",
       "\n",
       "                                     title  \n",
       "0                        Санитар/санитарка  \n",
       "1  Санитарка/Санитар в аптеку (м. Раменки)  \n",
       "2                        Санитарка/Санитар  \n",
       "3                     Санитар (ветклиника)  \n",
       "4                        Санитарка/санитар  "
      ]
     },
     "execution_count": 585,
     "metadata": {},
     "output_type": "execute_result"
    }
   ],
   "source": [
    "df_hh.head()"
   ]
  },
  {
   "cell_type": "code",
   "execution_count": 586,
   "metadata": {},
   "outputs": [
    {
     "data": {
      "text/html": [
       "<div>\n",
       "<style scoped>\n",
       "    .dataframe tbody tr th:only-of-type {\n",
       "        vertical-align: middle;\n",
       "    }\n",
       "\n",
       "    .dataframe tbody tr th {\n",
       "        vertical-align: top;\n",
       "    }\n",
       "\n",
       "    .dataframe thead th {\n",
       "        text-align: right;\n",
       "    }\n",
       "</style>\n",
       "<table border=\"1\" class=\"dataframe\">\n",
       "  <thead>\n",
       "    <tr style=\"text-align: right;\">\n",
       "      <th></th>\n",
       "      <th>compensation</th>\n",
       "      <th>employer</th>\n",
       "      <th>link</th>\n",
       "      <th>source</th>\n",
       "      <th>title</th>\n",
       "    </tr>\n",
       "  </thead>\n",
       "  <tbody>\n",
       "    <tr>\n",
       "      <th>75</th>\n",
       "      <td>По договорённости</td>\n",
       "      <td>Всероссийский научно-исследовательский институ...</td>\n",
       "      <td>https://www.superjob.ru/vakansii/starshij-mast...</td>\n",
       "      <td>https://www.superjob.ru</td>\n",
       "      <td>Старший мастер (отдел главного механика-энерге...</td>\n",
       "    </tr>\n",
       "    <tr>\n",
       "      <th>76</th>\n",
       "      <td>от 80 000 руб.</td>\n",
       "      <td>Всероссийский научно-исследовательский институ...</td>\n",
       "      <td>https://www.superjob.ru/vakansii/inzhener-ovik...</td>\n",
       "      <td>https://www.superjob.ru</td>\n",
       "      <td>Инженер ОВиК</td>\n",
       "    </tr>\n",
       "    <tr>\n",
       "      <th>77</th>\n",
       "      <td>35 000 — 40 000 руб.</td>\n",
       "      <td>ТЦСО \"Щукино\"</td>\n",
       "      <td>https://www.superjob.ru/vakansii/uborschik-slu...</td>\n",
       "      <td>https://www.superjob.ru</td>\n",
       "      <td>Уборщик служебных помещений</td>\n",
       "    </tr>\n",
       "    <tr>\n",
       "      <th>78</th>\n",
       "      <td>По договорённости</td>\n",
       "      <td>PepsiCo</td>\n",
       "      <td>https://www.superjob.ru/vakansii/operator-nala...</td>\n",
       "      <td>https://www.superjob.ru</td>\n",
       "      <td>Оператор-наладчик линии в производстве пищевой...</td>\n",
       "    </tr>\n",
       "    <tr>\n",
       "      <th>79</th>\n",
       "      <td>до 30 000 руб.</td>\n",
       "      <td>Группа \"Гута\"</td>\n",
       "      <td>https://www.superjob.ru/vakansii/inzhener-po-o...</td>\n",
       "      <td>https://www.superjob.ru</td>\n",
       "      <td>Инженер по охране труда и пожарной безопасност...</td>\n",
       "    </tr>\n",
       "  </tbody>\n",
       "</table>\n",
       "</div>"
      ],
      "text/plain": [
       "            compensation                                           employer  \\\n",
       "75     По договорённости  Всероссийский научно-исследовательский институ...   \n",
       "76        от 80 000 руб.  Всероссийский научно-исследовательский институ...   \n",
       "77  35 000 — 40 000 руб.                                      ТЦСО \"Щукино\"   \n",
       "78     По договорённости                                            PepsiCo   \n",
       "79        до 30 000 руб.                                      Группа \"Гута\"   \n",
       "\n",
       "                                                 link  \\\n",
       "75  https://www.superjob.ru/vakansii/starshij-mast...   \n",
       "76  https://www.superjob.ru/vakansii/inzhener-ovik...   \n",
       "77  https://www.superjob.ru/vakansii/uborschik-slu...   \n",
       "78  https://www.superjob.ru/vakansii/operator-nala...   \n",
       "79  https://www.superjob.ru/vakansii/inzhener-po-o...   \n",
       "\n",
       "                     source                                              title  \n",
       "75  https://www.superjob.ru  Старший мастер (отдел главного механика-энерге...  \n",
       "76  https://www.superjob.ru                                       Инженер ОВиК  \n",
       "77  https://www.superjob.ru                        Уборщик служебных помещений  \n",
       "78  https://www.superjob.ru  Оператор-наладчик линии в производстве пищевой...  \n",
       "79  https://www.superjob.ru  Инженер по охране труда и пожарной безопасност...  "
      ]
     },
     "execution_count": 586,
     "metadata": {},
     "output_type": "execute_result"
    }
   ],
   "source": [
    "df_sj.tail()"
   ]
  },
  {
   "cell_type": "code",
   "execution_count": 587,
   "metadata": {},
   "outputs": [
    {
     "data": {
      "text/html": [
       "<div>\n",
       "<style scoped>\n",
       "    .dataframe tbody tr th:only-of-type {\n",
       "        vertical-align: middle;\n",
       "    }\n",
       "\n",
       "    .dataframe tbody tr th {\n",
       "        vertical-align: top;\n",
       "    }\n",
       "\n",
       "    .dataframe thead th {\n",
       "        text-align: right;\n",
       "    }\n",
       "</style>\n",
       "<table border=\"1\" class=\"dataframe\">\n",
       "  <thead>\n",
       "    <tr style=\"text-align: right;\">\n",
       "      <th></th>\n",
       "      <th>compensation</th>\n",
       "      <th>employer</th>\n",
       "      <th>link</th>\n",
       "      <th>source</th>\n",
       "      <th>title</th>\n",
       "    </tr>\n",
       "  </thead>\n",
       "  <tbody>\n",
       "    <tr>\n",
       "      <th>0</th>\n",
       "      <td>от 40 000 руб.</td>\n",
       "      <td>Амориа</td>\n",
       "      <td>https://hh.ru/vacancy/36577813?query=%D1%81%D0...</td>\n",
       "      <td>https://hh.ru</td>\n",
       "      <td>Санитар/санитарка</td>\n",
       "    </tr>\n",
       "    <tr>\n",
       "      <th>1</th>\n",
       "      <td>от 28 000 руб.</td>\n",
       "      <td>АО Столичные аптеки</td>\n",
       "      <td>https://hh.ru/vacancy/36381593?query=%D1%81%D0...</td>\n",
       "      <td>https://hh.ru</td>\n",
       "      <td>Санитарка/Санитар в аптеку (м. Раменки)</td>\n",
       "    </tr>\n",
       "    <tr>\n",
       "      <th>2</th>\n",
       "      <td>от 100 000 руб.</td>\n",
       "      <td>ООО Гарант-Мед</td>\n",
       "      <td>https://hh.ru/vacancy/36601291?query=%D1%81%D0...</td>\n",
       "      <td>https://hh.ru</td>\n",
       "      <td>Санитарка/Санитар</td>\n",
       "    </tr>\n",
       "    <tr>\n",
       "      <th>3</th>\n",
       "      <td>NaN</td>\n",
       "      <td>АО Август, Фирма</td>\n",
       "      <td>https://hh.ru/vacancy/35433244?query=%D1%81%D0...</td>\n",
       "      <td>https://hh.ru</td>\n",
       "      <td>Санитар (ветклиника)</td>\n",
       "    </tr>\n",
       "    <tr>\n",
       "      <th>4</th>\n",
       "      <td>34 000-34 000 руб.</td>\n",
       "      <td>ООО Нейро-Клиника</td>\n",
       "      <td>https://hh.ru/vacancy/36472038?query=%D1%81%D0...</td>\n",
       "      <td>https://hh.ru</td>\n",
       "      <td>Санитарка/санитар</td>\n",
       "    </tr>\n",
       "  </tbody>\n",
       "</table>\n",
       "</div>"
      ],
      "text/plain": [
       "         compensation             employer  \\\n",
       "0      от 40 000 руб.               Амориа   \n",
       "1      от 28 000 руб.  АО Столичные аптеки   \n",
       "2     от 100 000 руб.       ООО Гарант-Мед   \n",
       "3                 NaN     АО Август, Фирма   \n",
       "4  34 000-34 000 руб.    ООО Нейро-Клиника   \n",
       "\n",
       "                                                link         source  \\\n",
       "0  https://hh.ru/vacancy/36577813?query=%D1%81%D0...  https://hh.ru   \n",
       "1  https://hh.ru/vacancy/36381593?query=%D1%81%D0...  https://hh.ru   \n",
       "2  https://hh.ru/vacancy/36601291?query=%D1%81%D0...  https://hh.ru   \n",
       "3  https://hh.ru/vacancy/35433244?query=%D1%81%D0...  https://hh.ru   \n",
       "4  https://hh.ru/vacancy/36472038?query=%D1%81%D0...  https://hh.ru   \n",
       "\n",
       "                                     title  \n",
       "0                        Санитар/санитарка  \n",
       "1  Санитарка/Санитар в аптеку (м. Раменки)  \n",
       "2                        Санитарка/Санитар  \n",
       "3                     Санитар (ветклиника)  \n",
       "4                        Санитарка/санитар  "
      ]
     },
     "execution_count": 587,
     "metadata": {},
     "output_type": "execute_result"
    }
   ],
   "source": [
    "df = pd.concat([df_hh, df_sj], axis= 0, ignore_index= True, sort= False)\n",
    "df.head()"
   ]
  },
  {
   "cell_type": "code",
   "execution_count": 588,
   "metadata": {},
   "outputs": [
    {
     "data": {
      "text/html": [
       "<div>\n",
       "<style scoped>\n",
       "    .dataframe tbody tr th:only-of-type {\n",
       "        vertical-align: middle;\n",
       "    }\n",
       "\n",
       "    .dataframe tbody tr th {\n",
       "        vertical-align: top;\n",
       "    }\n",
       "\n",
       "    .dataframe thead th {\n",
       "        text-align: right;\n",
       "    }\n",
       "</style>\n",
       "<table border=\"1\" class=\"dataframe\">\n",
       "  <thead>\n",
       "    <tr style=\"text-align: right;\">\n",
       "      <th></th>\n",
       "      <th>compensation</th>\n",
       "      <th>employer</th>\n",
       "      <th>link</th>\n",
       "      <th>source</th>\n",
       "      <th>title</th>\n",
       "    </tr>\n",
       "  </thead>\n",
       "  <tbody>\n",
       "    <tr>\n",
       "      <th>512</th>\n",
       "      <td>По договорённости</td>\n",
       "      <td>Всероссийский научно-исследовательский институ...</td>\n",
       "      <td>https://www.superjob.ru/vakansii/starshij-mast...</td>\n",
       "      <td>https://www.superjob.ru</td>\n",
       "      <td>Старший мастер (отдел главного механика-энерге...</td>\n",
       "    </tr>\n",
       "    <tr>\n",
       "      <th>513</th>\n",
       "      <td>от 80 000 руб.</td>\n",
       "      <td>Всероссийский научно-исследовательский институ...</td>\n",
       "      <td>https://www.superjob.ru/vakansii/inzhener-ovik...</td>\n",
       "      <td>https://www.superjob.ru</td>\n",
       "      <td>Инженер ОВиК</td>\n",
       "    </tr>\n",
       "    <tr>\n",
       "      <th>514</th>\n",
       "      <td>35 000 — 40 000 руб.</td>\n",
       "      <td>ТЦСО \"Щукино\"</td>\n",
       "      <td>https://www.superjob.ru/vakansii/uborschik-slu...</td>\n",
       "      <td>https://www.superjob.ru</td>\n",
       "      <td>Уборщик служебных помещений</td>\n",
       "    </tr>\n",
       "    <tr>\n",
       "      <th>515</th>\n",
       "      <td>По договорённости</td>\n",
       "      <td>PepsiCo</td>\n",
       "      <td>https://www.superjob.ru/vakansii/operator-nala...</td>\n",
       "      <td>https://www.superjob.ru</td>\n",
       "      <td>Оператор-наладчик линии в производстве пищевой...</td>\n",
       "    </tr>\n",
       "    <tr>\n",
       "      <th>516</th>\n",
       "      <td>до 30 000 руб.</td>\n",
       "      <td>Группа \"Гута\"</td>\n",
       "      <td>https://www.superjob.ru/vakansii/inzhener-po-o...</td>\n",
       "      <td>https://www.superjob.ru</td>\n",
       "      <td>Инженер по охране труда и пожарной безопасност...</td>\n",
       "    </tr>\n",
       "  </tbody>\n",
       "</table>\n",
       "</div>"
      ],
      "text/plain": [
       "             compensation                                           employer  \\\n",
       "512     По договорённости  Всероссийский научно-исследовательский институ...   \n",
       "513        от 80 000 руб.  Всероссийский научно-исследовательский институ...   \n",
       "514  35 000 — 40 000 руб.                                      ТЦСО \"Щукино\"   \n",
       "515     По договорённости                                            PepsiCo   \n",
       "516        до 30 000 руб.                                      Группа \"Гута\"   \n",
       "\n",
       "                                                  link  \\\n",
       "512  https://www.superjob.ru/vakansii/starshij-mast...   \n",
       "513  https://www.superjob.ru/vakansii/inzhener-ovik...   \n",
       "514  https://www.superjob.ru/vakansii/uborschik-slu...   \n",
       "515  https://www.superjob.ru/vakansii/operator-nala...   \n",
       "516  https://www.superjob.ru/vakansii/inzhener-po-o...   \n",
       "\n",
       "                      source  \\\n",
       "512  https://www.superjob.ru   \n",
       "513  https://www.superjob.ru   \n",
       "514  https://www.superjob.ru   \n",
       "515  https://www.superjob.ru   \n",
       "516  https://www.superjob.ru   \n",
       "\n",
       "                                                 title  \n",
       "512  Старший мастер (отдел главного механика-энерге...  \n",
       "513                                       Инженер ОВиК  \n",
       "514                        Уборщик служебных помещений  \n",
       "515  Оператор-наладчик линии в производстве пищевой...  \n",
       "516  Инженер по охране труда и пожарной безопасност...  "
      ]
     },
     "execution_count": 588,
     "metadata": {},
     "output_type": "execute_result"
    }
   ],
   "source": [
    "df.tail()"
   ]
  },
  {
   "cell_type": "code",
   "execution_count": 589,
   "metadata": {},
   "outputs": [
    {
     "name": "stdout",
     "output_type": "stream",
     "text": [
      "<class 'pandas.core.frame.DataFrame'>\n",
      "RangeIndex: 517 entries, 0 to 516\n",
      "Data columns (total 5 columns):\n",
      "compensation    406 non-null object\n",
      "employer        508 non-null object\n",
      "link            517 non-null object\n",
      "source          517 non-null object\n",
      "title           517 non-null object\n",
      "dtypes: object(5)\n",
      "memory usage: 20.3+ KB\n"
     ]
    }
   ],
   "source": [
    "df.info()"
   ]
  },
  {
   "cell_type": "code",
   "execution_count": 590,
   "metadata": {},
   "outputs": [
    {
     "data": {
      "text/plain": [
       "compensation    111\n",
       "employer          9\n",
       "link              0\n",
       "source            0\n",
       "title             0\n",
       "dtype: int64"
      ]
     },
     "execution_count": 590,
     "metadata": {},
     "output_type": "execute_result"
    }
   ],
   "source": [
    "df.isnull().sum()"
   ]
  },
  {
   "cell_type": "markdown",
   "metadata": {},
   "source": [
    "### 'Compensation' parsing"
   ]
  },
  {
   "cell_type": "markdown",
   "metadata": {},
   "source": [
    "Let's look at the enemy face to face"
   ]
  },
  {
   "cell_type": "code",
   "execution_count": 591,
   "metadata": {},
   "outputs": [
    {
     "data": {
      "text/plain": [
       "array(['от 40\\xa0000 руб.', 'от 28\\xa0000 руб.', 'от 100\\xa0000 руб.',\n",
       "       nan, '34\\xa0000-34\\xa0000 руб.', 'от 30\\xa0000 руб.',\n",
       "       '26\\xa0400-29\\xa0000 руб.', '60\\xa0000-60\\xa0000 руб.',\n",
       "       '65\\xa0000-65\\xa0000 руб.', 'от 60\\xa0000 руб.',\n",
       "       'до 29\\xa0000 руб.', '35\\xa0000-35\\xa0000 руб.',\n",
       "       '40\\xa0000-50\\xa0000 руб.', 'до 40\\xa0000 руб.',\n",
       "       'до 13\\xa0500 руб.', '40\\xa0000-60\\xa0000 руб.',\n",
       "       'от 32\\xa0000 руб.', '70\\xa0000-90\\xa0000 руб.',\n",
       "       'от 20\\xa0000 руб.', '27\\xa0000-30\\xa0000 руб.',\n",
       "       'от 29\\xa0000 руб.', 'от 65\\xa0000 руб.', 'от 150\\xa0000 руб.',\n",
       "       'от 80\\xa0000 руб.', '100\\xa0000-100\\xa0000 руб.',\n",
       "       '70\\xa0000-80\\xa0000 руб.', '60\\xa0000-80\\xa0000 руб.',\n",
       "       '30\\xa0000-40\\xa0000 руб.', '70\\xa0000-70\\xa0000 руб.',\n",
       "       '40\\xa0000-45\\xa0000 руб.', 'от 18\\xa0000 руб.',\n",
       "       'от 50\\xa0000 руб.', 'до 68\\xa0000 руб.', 'от 70\\xa0000 руб.',\n",
       "       'от 45\\xa0000 руб.', 'от 25\\xa0000 руб.',\n",
       "       '35\\xa0000-42\\xa0000 руб.', '40\\xa0890-40\\xa0890 руб.',\n",
       "       '20\\xa0195-20\\xa0195 руб.', '48\\xa0000-66\\xa0000 руб.',\n",
       "       'от 35\\xa0000 руб.', '50\\xa0000-150\\xa0000 руб.',\n",
       "       'от 200\\xa0000 руб.', 'от 55\\xa0000 руб.', 'от 56\\xa0500 руб.',\n",
       "       'до 32\\xa0000 руб.', '36\\xa0076-46\\xa0898 руб.',\n",
       "       'до 170\\xa0000 руб.', '59\\xa0500-68\\xa0000 руб.',\n",
       "       '60\\xa0000-200\\xa0000 руб.', '100\\xa0000-120\\xa0000 руб.',\n",
       "       'до 90\\xa0000 руб.', '23\\xa0079-23\\xa0079 руб.',\n",
       "       '35\\xa0000-52\\xa0150 руб.', 'от 27\\xa0040 руб.',\n",
       "       'от 52\\xa0000 руб.', 'от 22\\xa0929 руб.', 'от 56\\xa0158 руб.',\n",
       "       'от 58\\xa0900 руб.', 'от 59\\xa0090 руб.', 'от 58\\xa0000 руб.',\n",
       "       'от 61\\xa0500 руб.', 'от 56\\xa0100 руб.', 'от 55\\xa0900 руб.',\n",
       "       'от 33\\xa0124 руб.', 'от 78\\xa0900 руб.', 'от 25\\xa0643 руб.',\n",
       "       '150\\xa0000-200\\xa0000 руб.', '70\\xa0000-120\\xa0000 руб.',\n",
       "       'от 12\\xa0160 руб.', 'от 11\\xa0490 руб.', 'от 13\\xa0120 руб.',\n",
       "       'от 14\\xa0180 руб.', '50\\xa0000-60\\xa0000 руб.',\n",
       "       'от 75\\xa0000 руб.', 'от 130\\xa0000 руб.',\n",
       "       '40\\xa0230-40\\xa0230 руб.', '60\\xa0000-70\\xa0000 руб.',\n",
       "       '50\\xa0000-50\\xa0000 руб.', '42\\xa0000-42\\xa0000 руб.',\n",
       "       '30\\xa0000-35\\xa0000 руб.', 'от 9\\xa0620 руб.',\n",
       "       '70\\xa0000-100\\xa0000 руб.', '78\\xa0700-78\\xa0700 руб.',\n",
       "       'от 4\\xa0840 руб.', '80\\xa0000-100\\xa0000 руб.',\n",
       "       '80\\xa0000-80\\xa0000 руб.', 'от 90\\xa0000 руб.',\n",
       "       'от 80\\xa0600 руб.', 'до 67\\xa0925 руб.', 'от 120\\xa0000 руб.',\n",
       "       '50\\xa0000-53\\xa0000 руб.', '30\\xa0000-30\\xa0000 руб.',\n",
       "       'до 130\\xa0000 руб.', 'от 20\\xa0200 руб.',\n",
       "       '90\\xa0055-90\\xa0055 руб.', 'до 70\\xa0000 руб.',\n",
       "       '40\\xa0000-40\\xa0000 руб.', '57\\xa0000-57\\xa0000 руб.',\n",
       "       'от 42\\xa0000 руб.', 'до 125\\xa0000 руб.', 'от 400\\xa0000 руб.',\n",
       "       '55\\xa0000-56\\xa0000 руб.', '61\\xa0550-80\\xa0000 руб.',\n",
       "       'от 63\\xa0000 руб.', '40\\xa0000-55\\xa0000 руб.',\n",
       "       '39\\xa0000-39\\xa0000 руб.', 'от 43\\xa0000 руб.',\n",
       "       'до 75\\xa0000 руб.', '38\\xa0000-52\\xa0000 руб.',\n",
       "       '65\\xa0000-100\\xa0000 руб.', '32\\xa0000-36\\xa0000 руб.',\n",
       "       'до 54\\xa0300 руб.', 'от 41\\xa0000 руб.',\n",
       "       '64\\xa0000-74\\xa0000 руб.', '41\\xa0000-41\\xa0000 руб.',\n",
       "       '25\\xa0000-35\\xa0000 руб.', 'до 50\\xa0000 руб.',\n",
       "       '45\\xa0000-60\\xa0000 руб.', 'от 43\\xa0700 руб.',\n",
       "       'от 46\\xa0000 руб.', '50\\xa0000-67\\xa0000 руб.',\n",
       "       '250\\xa0000-250\\xa0000 руб.', '40\\xa0000-70\\xa0000 руб.',\n",
       "       '85\\xa0000-100\\xa0000 руб.', '90\\xa0000-100\\xa0000 руб.',\n",
       "       '65\\xa0000-69\\xa0000 руб.', '27\\xa0000-54\\xa0000 руб.',\n",
       "       'до 105\\xa0000 руб.', '45\\xa0000-45\\xa0000 руб.',\n",
       "       '30\\xa0000-60\\xa0000 руб.', '40\\xa0000-80\\xa0000 руб.',\n",
       "       'до 34\\xa0000 руб.', '30\\xa0000-34\\xa0000 руб.',\n",
       "       '50\\xa0000-70\\xa0000 руб.', 'от\\xa032\\xa0000\\xa0руб.',\n",
       "       '27\\xa0000\\xa0—\\xa030\\xa0000\\xa0руб.', '35\\xa0000\\xa0руб.',\n",
       "       'до\\xa0130\\xa0000\\xa0руб.', '25\\xa0000\\xa0—\\xa030\\xa0000\\xa0руб.',\n",
       "       'По договорённости', '60\\xa0000\\xa0—\\xa070\\xa0000\\xa0руб.',\n",
       "       'от\\xa030\\xa0000\\xa0руб.', 'от\\xa040\\xa0000\\xa0руб.',\n",
       "       'до\\xa0150\\xa0000\\xa0руб.', 'до\\xa090\\xa0000\\xa0руб.',\n",
       "       'от\\xa080\\xa0000\\xa0руб.', '54\\xa0000\\xa0—\\xa056\\xa0000\\xa0руб.',\n",
       "       'от\\xa090\\xa0000\\xa0руб.', 'от\\xa024\\xa0700\\xa0руб.',\n",
       "       'до\\xa050\\xa0000\\xa0руб.', 'до\\xa040\\xa0000\\xa0руб.',\n",
       "       'от\\xa060\\xa0000\\xa0руб.', 'до\\xa072\\xa0000\\xa0руб.',\n",
       "       '80\\xa0000\\xa0—\\xa0100\\xa0000\\xa0руб.',\n",
       "       '40\\xa0000\\xa0—\\xa050\\xa0000\\xa0руб.', 'до\\xa030\\xa0000\\xa0руб.',\n",
       "       'от\\xa070\\xa0000\\xa0руб.', 'от\\xa025\\xa0000\\xa0руб.',\n",
       "       'до\\xa085\\xa0000\\xa0руб.', 'от\\xa050\\xa0000\\xa0руб.',\n",
       "       'от\\xa012\\xa0000\\xa0руб.', '20\\xa0000\\xa0—\\xa025\\xa0000\\xa0руб.',\n",
       "       'до\\xa080\\xa0000\\xa0руб.', 'от\\xa045\\xa0000\\xa0руб.',\n",
       "       '45\\xa0000\\xa0—\\xa055\\xa0000\\xa0руб.',\n",
       "       '35\\xa0000\\xa0—\\xa040\\xa0000\\xa0руб.'], dtype=object)"
      ]
     },
     "execution_count": 591,
     "metadata": {},
     "output_type": "execute_result"
    }
   ],
   "source": [
    "compensations = df.compensation.unique()\n",
    "compensations"
   ]
  },
  {
   "cell_type": "code",
   "execution_count": 592,
   "metadata": {},
   "outputs": [],
   "source": [
    "df['compensation_min'] = np.nan\n",
    "df['compensation_max'] = np.nan\n",
    "df['compensation_currency'] = np.nan\n",
    "\n",
    "filter = ~df['compensation'].isnull()\n",
    "\n",
    "for i, _ in df[filter].iterrows():\n",
    "    \n",
    "    compensation_tt = df.loc[i, 'compensation'].replace(u'\\xa0', ' ')\n",
    "    \n",
    "    numbers = '[\\d+\\s]*\\d+' # pattern for number values\n",
    "    \n",
    "    fr = re.search(f'^от {numbers}', compensation_tt) # 'от 30 000'\n",
    "    if fr:\n",
    "        df.loc[i, 'compensation_min'] = fr[0][3:].replace(' ', '')\n",
    "        compensation_tt = compensation_tt.replace(fr[0], '')\n",
    "        \n",
    "    fr = re.search(f'^{numbers}[\\s]*[\\-—]+', compensation_tt) # '30 000-'\n",
    "    if fr:\n",
    "        df.loc[i, 'compensation_min'] = fr[0][:-1].replace(' ', '')\n",
    "        compensation_tt = compensation_tt.replace(fr[0], '-')\n",
    "    \n",
    "    fr = re.search(f'^до {numbers}', compensation_tt) # 'до 30 000'\n",
    "    if fr:\n",
    "        df.loc[i, 'compensation_max'] = fr[0][3:].replace(' ', '')\n",
    "        compensation_tt = compensation_tt.replace(fr[0], '')\n",
    "        \n",
    "        \n",
    "    fr = re.search(f'^[\\-—]+[\\s]*{numbers}', compensation_tt) # '-30 000'\n",
    "    if fr:\n",
    "        df.loc[i, 'compensation_max'] = fr[0][1:].replace(' ', '')\n",
    "        compensation_tt = compensation_tt.replace(fr[0], '')\n",
    "        \n",
    "    fr = re.search(f'^[\\s]*{numbers}', compensation_tt) # '30 000'\n",
    "    if fr:\n",
    "        df.loc[i, 'compensation_max'] = fr[0].replace(' ', '')\n",
    "        df.loc[i, 'compensation_min'] = fr[0].replace(' ', '')\n",
    "        compensation_tt = compensation_tt.replace(fr[0], '')\n",
    "    \n",
    "    df.loc[i, 'compensation_currency'] = compensation_tt # the rest to the currency\n",
    "    "
   ]
  },
  {
   "cell_type": "code",
   "execution_count": 593,
   "metadata": {},
   "outputs": [
    {
     "data": {
      "text/html": [
       "<div>\n",
       "<style scoped>\n",
       "    .dataframe tbody tr th:only-of-type {\n",
       "        vertical-align: middle;\n",
       "    }\n",
       "\n",
       "    .dataframe tbody tr th {\n",
       "        vertical-align: top;\n",
       "    }\n",
       "\n",
       "    .dataframe thead th {\n",
       "        text-align: right;\n",
       "    }\n",
       "</style>\n",
       "<table border=\"1\" class=\"dataframe\">\n",
       "  <thead>\n",
       "    <tr style=\"text-align: right;\">\n",
       "      <th></th>\n",
       "      <th>compensation</th>\n",
       "      <th>employer</th>\n",
       "      <th>link</th>\n",
       "      <th>source</th>\n",
       "      <th>title</th>\n",
       "      <th>compensation_min</th>\n",
       "      <th>compensation_max</th>\n",
       "      <th>compensation_currency</th>\n",
       "    </tr>\n",
       "  </thead>\n",
       "  <tbody>\n",
       "    <tr>\n",
       "      <th>0</th>\n",
       "      <td>от 40 000 руб.</td>\n",
       "      <td>Амориа</td>\n",
       "      <td>https://hh.ru/vacancy/36577813?query=%D1%81%D0...</td>\n",
       "      <td>https://hh.ru</td>\n",
       "      <td>Санитар/санитарка</td>\n",
       "      <td>40000</td>\n",
       "      <td>NaN</td>\n",
       "      <td>руб.</td>\n",
       "    </tr>\n",
       "    <tr>\n",
       "      <th>1</th>\n",
       "      <td>от 28 000 руб.</td>\n",
       "      <td>АО Столичные аптеки</td>\n",
       "      <td>https://hh.ru/vacancy/36381593?query=%D1%81%D0...</td>\n",
       "      <td>https://hh.ru</td>\n",
       "      <td>Санитарка/Санитар в аптеку (м. Раменки)</td>\n",
       "      <td>28000</td>\n",
       "      <td>NaN</td>\n",
       "      <td>руб.</td>\n",
       "    </tr>\n",
       "    <tr>\n",
       "      <th>2</th>\n",
       "      <td>от 100 000 руб.</td>\n",
       "      <td>ООО Гарант-Мед</td>\n",
       "      <td>https://hh.ru/vacancy/36601291?query=%D1%81%D0...</td>\n",
       "      <td>https://hh.ru</td>\n",
       "      <td>Санитарка/Санитар</td>\n",
       "      <td>100000</td>\n",
       "      <td>NaN</td>\n",
       "      <td>руб.</td>\n",
       "    </tr>\n",
       "    <tr>\n",
       "      <th>3</th>\n",
       "      <td>NaN</td>\n",
       "      <td>АО Август, Фирма</td>\n",
       "      <td>https://hh.ru/vacancy/35433244?query=%D1%81%D0...</td>\n",
       "      <td>https://hh.ru</td>\n",
       "      <td>Санитар (ветклиника)</td>\n",
       "      <td>NaN</td>\n",
       "      <td>NaN</td>\n",
       "      <td>NaN</td>\n",
       "    </tr>\n",
       "    <tr>\n",
       "      <th>4</th>\n",
       "      <td>34 000-34 000 руб.</td>\n",
       "      <td>ООО Нейро-Клиника</td>\n",
       "      <td>https://hh.ru/vacancy/36472038?query=%D1%81%D0...</td>\n",
       "      <td>https://hh.ru</td>\n",
       "      <td>Санитарка/санитар</td>\n",
       "      <td>34000</td>\n",
       "      <td>34000</td>\n",
       "      <td>руб.</td>\n",
       "    </tr>\n",
       "    <tr>\n",
       "      <th>5</th>\n",
       "      <td>от 30 000 руб.</td>\n",
       "      <td>Лазерный Дом</td>\n",
       "      <td>https://hh.ru/vacancy/36373397?query=%D1%81%D0...</td>\n",
       "      <td>https://hh.ru</td>\n",
       "      <td>Санитарка/санитар в медицинскую клинику</td>\n",
       "      <td>30000</td>\n",
       "      <td>NaN</td>\n",
       "      <td>руб.</td>\n",
       "    </tr>\n",
       "    <tr>\n",
       "      <th>6</th>\n",
       "      <td>NaN</td>\n",
       "      <td>ООО Центр по развитию и применению традиционно...</td>\n",
       "      <td>https://hh.ru/vacancy/36231899?query=%D1%81%D0...</td>\n",
       "      <td>https://hh.ru</td>\n",
       "      <td>Санитарка/Санитар в стоматологию</td>\n",
       "      <td>NaN</td>\n",
       "      <td>NaN</td>\n",
       "      <td>NaN</td>\n",
       "    </tr>\n",
       "    <tr>\n",
       "      <th>7</th>\n",
       "      <td>26 400-29 000 руб.</td>\n",
       "      <td>СМ-Клиника</td>\n",
       "      <td>https://hh.ru/vacancy/35870660?query=%D1%81%D0...</td>\n",
       "      <td>https://hh.ru</td>\n",
       "      <td>Санитарка/Санитар</td>\n",
       "      <td>26400</td>\n",
       "      <td>29000</td>\n",
       "      <td>руб.</td>\n",
       "    </tr>\n",
       "    <tr>\n",
       "      <th>8</th>\n",
       "      <td>60 000-60 000 руб.</td>\n",
       "      <td>Бородино, бизнес-отель</td>\n",
       "      <td>https://hh.ru/vacancy/36165731?query=%D1%81%D0...</td>\n",
       "      <td>https://hh.ru</td>\n",
       "      <td>Санитарный врач</td>\n",
       "      <td>60000</td>\n",
       "      <td>60000</td>\n",
       "      <td>руб.</td>\n",
       "    </tr>\n",
       "    <tr>\n",
       "      <th>9</th>\n",
       "      <td>65 000-65 000 руб.</td>\n",
       "      <td>ГК Медси. Клинические больницы</td>\n",
       "      <td>https://hh.ru/vacancy/36564994?query=%D1%81%D0...</td>\n",
       "      <td>https://hh.ru</td>\n",
       "      <td>Санитарка/Санитар</td>\n",
       "      <td>65000</td>\n",
       "      <td>65000</td>\n",
       "      <td>руб.</td>\n",
       "    </tr>\n",
       "  </tbody>\n",
       "</table>\n",
       "</div>"
      ],
      "text/plain": [
       "         compensation                                           employer  \\\n",
       "0      от 40 000 руб.                                             Амориа   \n",
       "1      от 28 000 руб.                                АО Столичные аптеки   \n",
       "2     от 100 000 руб.                                     ООО Гарант-Мед   \n",
       "3                 NaN                                   АО Август, Фирма   \n",
       "4  34 000-34 000 руб.                                  ООО Нейро-Клиника   \n",
       "5      от 30 000 руб.                                       Лазерный Дом   \n",
       "6                 NaN  ООО Центр по развитию и применению традиционно...   \n",
       "7  26 400-29 000 руб.                                         СМ-Клиника   \n",
       "8  60 000-60 000 руб.                             Бородино, бизнес-отель   \n",
       "9  65 000-65 000 руб.                     ГК Медси. Клинические больницы   \n",
       "\n",
       "                                                link         source  \\\n",
       "0  https://hh.ru/vacancy/36577813?query=%D1%81%D0...  https://hh.ru   \n",
       "1  https://hh.ru/vacancy/36381593?query=%D1%81%D0...  https://hh.ru   \n",
       "2  https://hh.ru/vacancy/36601291?query=%D1%81%D0...  https://hh.ru   \n",
       "3  https://hh.ru/vacancy/35433244?query=%D1%81%D0...  https://hh.ru   \n",
       "4  https://hh.ru/vacancy/36472038?query=%D1%81%D0...  https://hh.ru   \n",
       "5  https://hh.ru/vacancy/36373397?query=%D1%81%D0...  https://hh.ru   \n",
       "6  https://hh.ru/vacancy/36231899?query=%D1%81%D0...  https://hh.ru   \n",
       "7  https://hh.ru/vacancy/35870660?query=%D1%81%D0...  https://hh.ru   \n",
       "8  https://hh.ru/vacancy/36165731?query=%D1%81%D0...  https://hh.ru   \n",
       "9  https://hh.ru/vacancy/36564994?query=%D1%81%D0...  https://hh.ru   \n",
       "\n",
       "                                     title compensation_min compensation_max  \\\n",
       "0                        Санитар/санитарка            40000              NaN   \n",
       "1  Санитарка/Санитар в аптеку (м. Раменки)            28000              NaN   \n",
       "2                        Санитарка/Санитар           100000              NaN   \n",
       "3                     Санитар (ветклиника)              NaN              NaN   \n",
       "4                        Санитарка/санитар            34000            34000   \n",
       "5  Санитарка/санитар в медицинскую клинику            30000              NaN   \n",
       "6         Санитарка/Санитар в стоматологию              NaN              NaN   \n",
       "7                        Санитарка/Санитар            26400            29000   \n",
       "8                          Санитарный врач            60000            60000   \n",
       "9                        Санитарка/Санитар            65000            65000   \n",
       "\n",
       "  compensation_currency  \n",
       "0                  руб.  \n",
       "1                  руб.  \n",
       "2                  руб.  \n",
       "3                   NaN  \n",
       "4                  руб.  \n",
       "5                  руб.  \n",
       "6                   NaN  \n",
       "7                  руб.  \n",
       "8                  руб.  \n",
       "9                  руб.  "
      ]
     },
     "execution_count": 593,
     "metadata": {},
     "output_type": "execute_result"
    }
   ],
   "source": [
    "df.head(10)"
   ]
  },
  {
   "cell_type": "code",
   "execution_count": 594,
   "metadata": {},
   "outputs": [
    {
     "data": {
      "text/plain": [
       "array([' руб.', nan, 'По договорённости'], dtype=object)"
      ]
     },
     "execution_count": 594,
     "metadata": {},
     "output_type": "execute_result"
    }
   ],
   "source": [
    "df['compensation_currency'].unique()"
   ]
  },
  {
   "cell_type": "code",
   "execution_count": 595,
   "metadata": {},
   "outputs": [],
   "source": [
    "df.to_csv(f'hh_sj_completed.csv', encoding= 'utf-8')"
   ]
  },
  {
   "cell_type": "code",
   "execution_count": null,
   "metadata": {},
   "outputs": [],
   "source": []
  }
 ],
 "metadata": {
  "kernelspec": {
   "display_name": "Python 3",
   "language": "python",
   "name": "python3"
  },
  "language_info": {
   "codemirror_mode": {
    "name": "ipython",
    "version": 3
   },
   "file_extension": ".py",
   "mimetype": "text/x-python",
   "name": "python",
   "nbconvert_exporter": "python",
   "pygments_lexer": "ipython3",
   "version": "3.7.3"
  }
 },
 "nbformat": 4,
 "nbformat_minor": 2
}
