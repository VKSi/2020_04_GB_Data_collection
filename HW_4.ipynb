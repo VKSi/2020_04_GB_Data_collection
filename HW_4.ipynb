{
 "cells": [
  {
   "cell_type": "markdown",
   "metadata": {},
   "source": [
    "# GeekBrains University\n",
    "## Methods of data collection\n",
    "\n",
    "## Lesson 4\n",
    "### Parsing HTML. XPath"
   ]
  },
  {
   "cell_type": "markdown",
   "metadata": {},
   "source": [
    "### The Task \n",
    "Написать приложение, которое собирает основные новости с сайтов mail.ru, lenta.ru, yandex-новости.    \n",
    "    \n",
    "Для парсинга использовать xpath. Структура данных должна содержать:    \n",
    "•\tназвание источника,    \n",
    "•\tнаименование новости,    \n",
    "•\tссылку на новость,    \n",
    "•\tдата публикации    "
   ]
  },
  {
   "cell_type": "code",
   "execution_count": 365,
   "metadata": {},
   "outputs": [],
   "source": [
    "from lxml import html\n",
    "import requests\n",
    "from pprint import pprint\n",
    "import datetime\n",
    "\n",
    "import pandas as pd\n",
    "import numpy as np\n",
    "import re\n",
    "from pymongo import MongoClient"
   ]
  },
  {
   "cell_type": "code",
   "execution_count": 347,
   "metadata": {
    "collapsed": true
   },
   "outputs": [],
   "source": [
    "headers = {'User-Agent':\n",
    "    'Mozilla/5.0 (Windows NT 10.0; Win64; x64) AppleWebKit/537.36 (KHTML, like Gecko) Chrome/80.0.3987.163 Safari/537.36'}"
   ]
  },
  {
   "cell_type": "code",
   "execution_count": 348,
   "metadata": {},
   "outputs": [],
   "source": [
    "client = MongoClient( 'localhost' , 27017 )\n",
    "db = client['news']"
   ]
  },
  {
   "cell_type": "markdown",
   "metadata": {},
   "source": [
    "## news.mail.ru"
   ]
  },
  {
   "cell_type": "markdown",
   "metadata": {},
   "source": [
    "### Get list of news links from news.mail.ru"
   ]
  },
  {
   "cell_type": "code",
   "execution_count": 349,
   "metadata": {},
   "outputs": [],
   "source": [
    "def get_mail_news():\n",
    "    main_link = 'https://news.mail.ru/'\n",
    "    response = requests.get(main_link, headers= headers)\n",
    "    root = html.fromstring(response.text)\n",
    "\n",
    "    topics = ['politics', 'economics', 'society', 'incident'] # Topics list for news-mail.ru\n",
    "\n",
    "    # Get all news links\n",
    "    data = []\n",
    "    for topic in topics:\n",
    "        links = f\"//a[contains(@href, '{topic}')]/@href\"\n",
    "        links = root.xpath(links) # list of news links on the topic\n",
    "        links = [main_link + x for x in links if re.search('\\d/$', x)] # Rid off not news links and add main part\n",
    "        data += links\n",
    "    \n",
    "    return(data)"
   ]
  },
  {
   "cell_type": "markdown",
   "metadata": {},
   "source": [
    "### Get neccessary info on the news link (article)"
   ]
  },
  {
   "cell_type": "code",
   "execution_count": 350,
   "metadata": {},
   "outputs": [],
   "source": [
    "def mail_news_name_source_date(link):\n",
    "    main_link = link\n",
    "    response = requests.get(link, headers= headers)\n",
    "    root = html.fromstring(response.text)\n",
    "    \n",
    "    info = {'link': link}\n",
    "\n",
    "    date = \"//span[contains(@class, 'breadcrumbs__item')]//span[@datetime]/@datetime\"\n",
    "    info['date'] = root.xpath(date)[0] # news date\n",
    "\n",
    "    source = \"//span[contains(@class, 'breadcrumbs__item')]//span/a//text()\"\n",
    "    info['source'] = root.xpath(source)[0] # Name of the source\n",
    "\n",
    "    name = \"//div[contains(@class, 'article js-article js-module')]//span[contains(@class, 'hdr__text')]//text()\"\n",
    "    info['name'] = root.xpath(name)[0] # Name of the article\n",
    "\n",
    "    return info"
   ]
  },
  {
   "cell_type": "markdown",
   "metadata": {},
   "source": [
    "### Main loop for news.mail.ru"
   ]
  },
  {
   "cell_type": "code",
   "execution_count": 351,
   "metadata": {},
   "outputs": [
    {
     "data": {
      "text/plain": [
       "<pymongo.results.InsertManyResult at 0x1f47d31ba08>"
      ]
     },
     "execution_count": 351,
     "metadata": {},
     "output_type": "execute_result"
    }
   ],
   "source": [
    "info = [*map(mail_news_name_source_date, get_mail_news())]\n",
    "collection = db.news_mail_ru\n",
    "collection.insert_many(info)"
   ]
  },
  {
   "cell_type": "code",
   "execution_count": 352,
   "metadata": {},
   "outputs": [
    {
     "data": {
      "text/plain": [
       "[{'link': 'https://news.mail.ru//politics/41433436/',\n",
       "  'date': '2020-04-17T17:02:11+03:00',\n",
       "  'source': 'ТАСС',\n",
       "  'name': 'Путин заявил, что проблема распространения коронавируса уходит из Москвы в другие регионы',\n",
       "  '_id': ObjectId('5e99f845bc26fad04b35b3c6')},\n",
       " {'link': 'https://news.mail.ru//politics/41435438/',\n",
       "  'date': '2020-04-17T17:58:45+03:00',\n",
       "  'source': 'Коммерсантъ',\n",
       "  'name': '«Скрытность COVID-19 — тайная сила этого противника»',\n",
       "  '_id': ObjectId('5e99f845bc26fad04b35b3c7')},\n",
       " {'link': 'https://news.mail.ru//politics/41435438/',\n",
       "  'date': '2020-04-17T17:58:45+03:00',\n",
       "  'source': 'Коммерсантъ',\n",
       "  'name': '«Скрытность COVID-19 — тайная сила этого противника»',\n",
       "  '_id': ObjectId('5e99f845bc26fad04b35b3c8')}]"
      ]
     },
     "execution_count": 352,
     "metadata": {},
     "output_type": "execute_result"
    }
   ],
   "source": [
    "info[:3]"
   ]
  },
  {
   "cell_type": "markdown",
   "metadata": {},
   "source": [
    "## lenta.ru"
   ]
  },
  {
   "cell_type": "markdown",
   "metadata": {},
   "source": [
    "### Get list of news links from lenta.ru"
   ]
  },
  {
   "cell_type": "code",
   "execution_count": 353,
   "metadata": {},
   "outputs": [],
   "source": [
    "def get_lenta_news():\n",
    "    main_link = 'https://lenta.ru/'\n",
    "    response = requests.get(main_link, headers= headers)\n",
    "    root = html.fromstring(response.text)\n",
    "\n",
    "    # Get all news links\n",
    "    \n",
    "    links = f\"//a[contains(@href, '/news/')]/@href\"\n",
    "    links = root.xpath(links) # list of news links on the topic\n",
    "    links = [main_link + x for x in links if re.search('\\/\\d{4}\\/\\d{2}\\/\\d{2}\\/', x)] # Rid off not news links and add main part\n",
    "    \n",
    "    return(links)"
   ]
  },
  {
   "cell_type": "markdown",
   "metadata": {},
   "source": [
    "### Get neccessary info on the news link (article)"
   ]
  },
  {
   "cell_type": "code",
   "execution_count": 354,
   "metadata": {},
   "outputs": [],
   "source": [
    "def lenta_news_name_source_date(link):\n",
    "    main_link = link\n",
    "    response = requests.get(link, headers= headers)\n",
    "    root = html.fromstring(response.text)\n",
    "    \n",
    "    info = {'link': link}\n",
    "    \n",
    "    top = root.xpath(\".//div[contains(@class, 'b-topic__header js-topic__header')]\")[0]\n",
    "\n",
    "    date = \".//time[contains(@class, 'g-date')]/@datetime\"\n",
    "    info['date'] = top.xpath(date)[0] # News date\n",
    "\n",
    "    info['source'] =\"lenta.ru\" # lenta.ru is an owner\n",
    "\n",
    "    name = \"//h1[contains(@class, 'b-topic__title')]//text()\"\n",
    "    info['name'] = top.xpath(name)[0] # Name of the article\n",
    "\n",
    "    return info"
   ]
  },
  {
   "cell_type": "markdown",
   "metadata": {},
   "source": [
    "### Main loop for lenta.ru"
   ]
  },
  {
   "cell_type": "code",
   "execution_count": 355,
   "metadata": {},
   "outputs": [
    {
     "data": {
      "text/plain": [
       "<pymongo.results.InsertManyResult at 0x1f47ff97e88>"
      ]
     },
     "execution_count": 355,
     "metadata": {},
     "output_type": "execute_result"
    }
   ],
   "source": [
    "info = [*map(lenta_news_name_source_date, get_lenta_news())]\n",
    "collection = db.news_lenta_ru\n",
    "collection.insert_many(info)"
   ]
  },
  {
   "cell_type": "code",
   "execution_count": 356,
   "metadata": {},
   "outputs": [
    {
     "data": {
      "text/plain": [
       "[{'link': 'https://lenta.ru//news/2020/04/17/gref/',\n",
       "  'date': '2020-04-17T09:00:00+03:00',\n",
       "  'source': 'lenta.ru',\n",
       "  'name': 'Задайте вопрос Грефу для эксклюзивного интервью на\\xa0ресурсах Rambler Group',\n",
       "  '_id': ObjectId('5e99f8c1bc26fad04b35b3e2')},\n",
       " {'link': 'https://lenta.ru//news/2020/04/17/gref/',\n",
       "  'date': '2020-04-17T09:00:00+03:00',\n",
       "  'source': 'lenta.ru',\n",
       "  'name': 'Задайте вопрос Грефу для эксклюзивного интервью на\\xa0ресурсах Rambler Group',\n",
       "  '_id': ObjectId('5e99f8c1bc26fad04b35b3e3')},\n",
       " {'link': 'https://lenta.ru//news/2020/04/17/effect/',\n",
       "  'date': '2020-04-17T21:32:00+03:00',\n",
       "  'source': 'lenta.ru',\n",
       "  'name': 'Собянин оценил эффект от\\xa0введения пропускного режима в\\xa0Москве',\n",
       "  '_id': ObjectId('5e99f8c1bc26fad04b35b3e4')}]"
      ]
     },
     "execution_count": 356,
     "metadata": {},
     "output_type": "execute_result"
    }
   ],
   "source": [
    "info[:3]"
   ]
  },
  {
   "cell_type": "markdown",
   "metadata": {},
   "source": [
    "## yandex.ru/news/"
   ]
  },
  {
   "cell_type": "markdown",
   "metadata": {},
   "source": [
    "### Get all info from yandex.ru/news/ (all info we can find from this page directly)"
   ]
  },
  {
   "cell_type": "code",
   "execution_count": 392,
   "metadata": {},
   "outputs": [],
   "source": [
    "def get_yandex_news():\n",
    "    main_link = 'https://yandex.ru/news/'\n",
    "    response = requests.get(main_link, headers= headers)\n",
    "    root = html.fromstring(response.text)\n",
    "\n",
    "    # Get all news links\n",
    "    \n",
    "    news = f\"//a[contains(@href, '/news/story/')]\"\n",
    "    news = root.xpath(news) # list of news\n",
    "    \n",
    "    data = []\n",
    "    for n in news:\n",
    "        info = {}\n",
    "        \n",
    "        link = n.xpath(\"./@href\")\n",
    "        info['link'] = main_link[:-6] + link[0]\n",
    "        \n",
    "        grandpa = n.xpath(\"./../../..\")[0]\n",
    "        text = grandpa.xpath(\".//div[contains(@class, 'story__date')]//text()\")[0]\n",
    "        \n",
    "        time = text[-5:]\n",
    "        info['date'] = datetime.datetime.combine(datetime.date.today(), datetime.datetime.strptime(time, \"%H:%M\").time())\n",
    "\n",
    "        info['source'] = text[:-5]\n",
    "\n",
    "        data.append(info)\n",
    "    return(data)"
   ]
  },
  {
   "cell_type": "markdown",
   "metadata": {},
   "source": [
    "### Main loop for yandex/news"
   ]
  },
  {
   "cell_type": "code",
   "execution_count": 393,
   "metadata": {},
   "outputs": [
    {
     "data": {
      "text/plain": [
       "<pymongo.results.InsertManyResult at 0x1f47d41f0c8>"
      ]
     },
     "execution_count": 393,
     "metadata": {},
     "output_type": "execute_result"
    }
   ],
   "source": [
    "info = [*get_yandex_news()]\n",
    "collection = db.news_yandex_ru\n",
    "collection.insert_many(info)"
   ]
  },
  {
   "cell_type": "code",
   "execution_count": 394,
   "metadata": {},
   "outputs": [
    {
     "data": {
      "text/plain": [
       "[{'link': 'https://yandex.ru/news/story/Sobyanin_dopustil_uzhestochenie_propusknogo_rezhima--11d80bdd961d62432f2abecd8dcb6025?lr=213&lang=ru&stid=8_2R6LHWuktFJD0bXIYR&persistent_id=94813076&rubric=index&from=index',\n",
       "  'date': datetime.datetime(2020, 4, 17, 20, 42),\n",
       "  'source': 'РИА Новости ',\n",
       "  '_id': ObjectId('5e99fd39bc26fad04b35b5c4')},\n",
       " {'link': 'https://yandex.ru/news/story/Sobyanin_dopustil_uzhestochenie_propusknogo_rezhima--11d80bdd961d62432f2abecd8dcb6025?lr=213&lang=ru&stid=8_2R6LHWuktFJD0bXIYR&persistent_id=94813076&rubric=index&from=index&comments=1',\n",
       "  'date': datetime.datetime(2020, 4, 17, 20, 42),\n",
       "  'source': 'РИА Новости ',\n",
       "  '_id': ObjectId('5e99fd39bc26fad04b35b5c5')},\n",
       " {'link': 'https://yandex.ru/news/story/Nazvany_obyazatelnye_usloviya_dlya_peredvizheniya_po_Moskve_peshkom--2c620e5439b953764399601a27affb4c?lr=213&lang=ru&stid=5LnIyZgRGX62u8wp3I-F&persistent_id=94341741&rubric=index&from=index',\n",
       "  'date': datetime.datetime(2020, 4, 17, 20, 3),\n",
       "  'source': 'Известия ',\n",
       "  '_id': ObjectId('5e99fd39bc26fad04b35b5c6')}]"
      ]
     },
     "execution_count": 394,
     "metadata": {},
     "output_type": "execute_result"
    }
   ],
   "source": [
    "info[:3]"
   ]
  },
  {
   "cell_type": "code",
   "execution_count": null,
   "metadata": {},
   "outputs": [],
   "source": []
  }
 ],
 "metadata": {
  "kernelspec": {
   "display_name": "Python 3",
   "language": "python",
   "name": "python3"
  },
  "language_info": {
   "codemirror_mode": {
    "name": "ipython",
    "version": 3
   },
   "file_extension": ".py",
   "mimetype": "text/x-python",
   "name": "python",
   "nbconvert_exporter": "python",
   "pygments_lexer": "ipython3",
   "version": "3.7.3"
  }
 },
 "nbformat": 4,
 "nbformat_minor": 2
}
